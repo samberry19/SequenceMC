{
 "cells": [
  {
   "cell_type": "code",
   "execution_count": 1,
   "id": "39bad048-1560-48bd-902d-40bd4b271187",
   "metadata": {},
   "outputs": [],
   "source": [
    "# bmDCA output"
   ]
  },
  {
   "cell_type": "code",
   "execution_count": null,
   "id": "7d5b48cb-76ba-444c-826c-705f78bfa637",
   "metadata": {},
   "outputs": [],
   "source": []
  }
 ],
 "metadata": {
  "kernelspec": {
   "display_name": "sequences",
   "language": "python",
   "name": "sequences"
  },
  "language_info": {
   "codemirror_mode": {
    "name": "ipython",
    "version": 3
   },
   "file_extension": ".py",
   "mimetype": "text/x-python",
   "name": "python",
   "nbconvert_exporter": "python",
   "pygments_lexer": "ipython3",
   "version": "3.10.4"
  }
 },
 "nbformat": 4,
 "nbformat_minor": 5
}
