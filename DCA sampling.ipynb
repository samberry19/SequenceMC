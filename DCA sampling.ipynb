{
 "cells": [
  {
   "cell_type": "code",
   "execution_count": 1,
   "id": "e52f3b0f",
   "metadata": {},
   "outputs": [],
   "source": [
    "import numpy as np\n",
    "import pandas as pd\n",
    "import matplotlib.pyplot as plt\n",
    "import seaborn as sns\n",
    "\n",
    "from evcouplings.couplings import CouplingsModel\n",
    "from MultipleSequenceAlignment import *\n",
    "\n",
    "from DCAsamplers import *"
   ]
  },
  {
   "cell_type": "code",
   "execution_count": 2,
   "id": "4039b3e9",
   "metadata": {},
   "outputs": [],
   "source": [
    "all_plmc_dir = \"/Users/sam/Downloads/nramps_new_plmc/nramps/\"\n",
    "m = CouplingsModel(all_plmc_dir + \"couplings/nramps.model\")\n",
    "ali = readAlignment(all_plmc_dir + \"align/nramps.a2m\")\n",
    "ali = ali[:,m.index_list-1]"
   ]
  },
  {
   "cell_type": "code",
   "execution_count": 8,
   "id": "668a8c62-ecf4-4e01-9e34-ffde5de3ffec",
   "metadata": {},
   "outputs": [],
   "source": [
    "nramp_couplings_longrange = pd.read_csv(all_plmc_dir + 'couplings/nramps_CouplingScores_longrange.csv')\n",
    "nramp_couplings_longrange_compared = pd.read_csv(all_plmc_dir + \"compare/nramps_CouplingScoresCompared_longrange.csv\")"
   ]
  },
  {
   "cell_type": "code",
   "execution_count": 24,
   "id": "4e527895-fb71-41f6-b6f2-be5eb44c4262",
   "metadata": {},
   "outputs": [
    {
     "data": {
      "text/plain": [
       "387"
      ]
     },
     "execution_count": 24,
     "metadata": {},
     "output_type": "execute_result"
    }
   ],
   "source": [
    "m.L"
   ]
  },
  {
   "cell_type": "code",
   "execution_count": 60,
   "id": "d0eb6bfb-3d40-4d54-b4ab-e20151ad90bc",
   "metadata": {},
   "outputs": [
    {
     "data": {
      "text/plain": [
       "<matplotlib.legend.Legend at 0x2d0c8a260>"
      ]
     },
     "execution_count": 60,
     "metadata": {},
     "output_type": "execute_result"
    },
    {
     "data": {
      "image/png": "[encoded data removed]",
      "text/plain": [
       "<Figure size 432x288 with 1 Axes>"
      ]
     },
     "metadata": {
      "needs_background": "light"
     },
     "output_type": "display_data"
    }
   ],
   "source": [
    "couplings = nramp_couplings_longrange_compared\n",
    "\n",
    "dist_thresh = 6\n",
    "plt.plot(np.arange(0.01, 4, 0.01), \\\n",
    "         [np.mean(couplings['dist'][:int(k*m.L)] < dist_thresh) for k in np.arange(0.01, 4, 0.01)], \\\n",
    "         c='slateblue', alpha=0.5, label = \"6 Å\")\n",
    "\n",
    "dist_thresh = 7\n",
    "plt.plot(np.arange(0.01, 4, 0.01), \\\n",
    "         [np.mean(couplings['dist'][:int(k*m.L)] < dist_thresh) for k in np.arange(0.01, 4, 0.01)], label = \"7 Å\")\n",
    "\n",
    "dist_thresh = 8\n",
    "plt.plot(np.arange(0.01, 4, 0.01), \\\n",
    "         [np.mean(couplings['dist'][:int(k*m.L)] < dist_thresh) for k in np.arange(0.01, 4, 0.01)], \\\n",
    "         c='lightblue', label = \"8 Å\")\n",
    "\n",
    "plt.ylabel(\"True positive fraction\")\n",
    "plt.xlabel(\"Number of couplings / L\")\n",
    "plt.legend(title=\"Contact thresh\")"
   ]
  },
  {
   "cell_type": "code",
   "execution_count": null,
   "id": "6e04723b-c50b-4f97-a4d7-d22cd9860752",
   "metadata": {},
   "outputs": [],
   "source": []
  },
  {
   "cell_type": "code",
   "execution_count": 62,
   "id": "f08ba32b-a22b-4c80-8d76-326f250b880f",
   "metadata": {},
   "outputs": [
    {
     "data": {
      "text/plain": [
       "0.917312661498708"
      ]
     },
     "execution_count": 62,
     "metadata": {},
     "output_type": "execute_result"
    }
   ],
   "source": [
    "np.mean(couplings['dist'][:int(1*m.L)] < 8)"
   ]
  },
  {
   "cell_type": "code",
   "execution_count": null,
   "id": "e1c096d3",
   "metadata": {},
   "outputs": [
    {
     "name": "stdout",
     "output_type": "stream",
     "text": [
      "0.5\n"
     ]
    },
    {
     "name": "stderr",
     "output_type": "stream",
     "text": [
      " 37%|████████████▎                    | 468272/1250000 [16:11<31:42, 410.93it/s]"
     ]
    }
   ],
   "source": [
    "Ts = [0.5, 1, 1.5, 2, 2.5, 3]\n",
    "    \n",
    "for T in Ts:\n",
    "    \n",
    "    print(T)\n",
    "    ohdca = OneHotDCASampler(m, 5, T=1)\n",
    "    ohdca.run(1250000)\n",
    "    ohdca.save(\"../../sampler_alignments/dca_sampler_t\"+T+\".pkl\")"
   ]
  },
  {
   "cell_type": "code",
   "execution_count": 3,
   "id": "d3c8905f",
   "metadata": {},
   "outputs": [
    {
     "name": "stderr",
     "output_type": "stream",
     "text": [
      "                                                                                \r"
     ]
    }
   ],
   "source": [
    "ohdca = OneHotDCASampler(m, 5, T=1)\n",
    "ohdca.run(1250000)\n",
    "ohdca.save(\"../../sampler_alingments/dca_sampler_t1.pkl\")"
   ]
  },
  {
   "cell_type": "code",
   "execution_count": 9,
   "id": "f696e7e2",
   "metadata": {},
   "outputs": [],
   "source": [
    "ohdca.save(\"../../sampler_alignments/dca_sampler_t1.pkl\")"
   ]
  },
  {
   "cell_type": "code",
   "execution_count": 7,
   "id": "0b0b2aa8",
   "metadata": {},
   "outputs": [
    {
     "name": "stdout",
     "output_type": "stream",
     "text": [
      "../../samplers.py\n",
      "\n",
      "../../sampler_alignments:\n"
     ]
    }
   ],
   "source": [
    "ls ../../sampler*"
   ]
  },
  {
   "cell_type": "code",
   "execution_count": null,
   "id": "ec6b9226",
   "metadata": {},
   "outputs": [],
   "source": []
  }
 ],
 "metadata": {
  "kernelspec": {
   "display_name": "sequences",
   "language": "python",
   "name": "sequences"
  },
  "language_info": {
   "codemirror_mode": {
    "name": "ipython",
    "version": 3
   },
   "file_extension": ".py",
   "mimetype": "text/x-python",
   "name": "python",
   "nbconvert_exporter": "python",
   "pygments_lexer": "ipython3",
   "version": "3.10.4"
  }
 },
 "nbformat": 4,
 "nbformat_minor": 5
}
