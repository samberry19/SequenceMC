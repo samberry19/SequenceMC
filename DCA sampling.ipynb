{
 "cells": [
  {
   "cell_type": "code",
   "execution_count": 1,
   "id": "e52f3b0f",
   "metadata": {},
   "outputs": [],
   "source": [
    "import numpy as np\n",
    "import pandas as pd\n",
    "import matplotlib.pyplot as plt\n",
    "import seaborn as sns\n",
    "\n",
    "from evcouplings.couplings import CouplingsModel\n",
    "from MultipleSequenceAlignment import *\n",
    "\n",
    "from DCAsamplers import *"
   ]
  },
  {
   "cell_type": "code",
   "execution_count": 2,
   "id": "4039b3e9",
   "metadata": {},
   "outputs": [],
   "source": [
    "all_plmc_dir = \"/Users/sam/Downloads/nramps_new_plmc/nramps/\"\n",
    "m = CouplingsModel(all_plmc_dir + \"couplings/nramps.model\")\n",
    "ali = readAlignment(all_plmc_dir + \"align/nramps.a2m\")\n",
    "ali = ali[:,m.index_list-1]"
   ]
  },
  {
   "cell_type": "code",
   "execution_count": null,
   "id": "e1c096d3",
   "metadata": {},
   "outputs": [
    {
     "name": "stdout",
     "output_type": "stream",
     "text": [
      "0.5\n"
     ]
    },
    {
     "name": "stderr",
     "output_type": "stream",
     "text": [
      " 37%|████████████▎                    | 468272/1250000 [16:11<31:42, 410.93it/s]"
     ]
    }
   ],
   "source": [
    "Ts = [0.5, 1, 1.5, 2, 2.5, 3]\n",
    "    \n",
    "for T in Ts:\n",
    "    \n",
    "    print(T)\n",
    "    ohdca = OneHotDCASampler(m, 5, T=1)\n",
    "    ohdca.run(1250000)\n",
    "    ohdca.save(\"../../sampler_alignments/dca_sampler_t\"+T+\".pkl\")"
   ]
  },
  {
   "cell_type": "code",
   "execution_count": 3,
   "id": "d3c8905f",
   "metadata": {},
   "outputs": [
    {
     "name": "stderr",
     "output_type": "stream",
     "text": [
      "                                                                                \r"
     ]
    }
   ],
   "source": [
    "ohdca = OneHotDCASampler(m, 5, T=1)\n",
    "ohdca.run(1250000)\n",
    "ohdca.save(\"../../sampler_alingments/dca_sampler_t1.pkl\")"
   ]
  },
  {
   "cell_type": "code",
   "execution_count": 9,
   "id": "f696e7e2",
   "metadata": {},
   "outputs": [],
   "source": [
    "ohdca.save(\"../../sampler_alignments/dca_sampler_t1.pkl\")"
   ]
  },
  {
   "cell_type": "code",
   "execution_count": 7,
   "id": "0b0b2aa8",
   "metadata": {},
   "outputs": [
    {
     "name": "stdout",
     "output_type": "stream",
     "text": [
      "../../samplers.py\r\n",
      "\r\n",
      "../../sampler_alignments:\r\n"
     ]
    }
   ],
   "source": [
    "ls ../../sampler*"
   ]
  },
  {
   "cell_type": "code",
   "execution_count": null,
   "id": "ec6b9226",
   "metadata": {},
   "outputs": [],
   "source": []
  }
 ],
 "metadata": {
  "kernelspec": {
   "display_name": "sequences",
   "language": "python",
   "name": "sequences"
  },
  "language_info": {
   "codemirror_mode": {
    "name": "ipython",
    "version": 3
   },
   "file_extension": ".py",
   "mimetype": "text/x-python",
   "name": "python",
   "nbconvert_exporter": "python",
   "pygments_lexer": "ipython3",
   "version": "3.10.4"
  }
 },
 "nbformat": 4,
 "nbformat_minor": 5
}
